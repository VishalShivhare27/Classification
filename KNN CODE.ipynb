{
 "cells": [
  {
   "cell_type": "code",
   "execution_count": 4,
   "metadata": {},
   "outputs": [
    {
     "name": "stdout",
     "output_type": "stream",
     "text": [
      "     0\n",
      "0    1\n",
      "1    0\n",
      "2    0\n",
      "3    0\n",
      "4    0\n",
      "..  ..\n",
      "187  1\n",
      "188  0\n",
      "189  1\n",
      "190  1\n",
      "191  0\n",
      "\n",
      "[192 rows x 1 columns]\n"
     ]
    },
    {
     "name": "stderr",
     "output_type": "stream",
     "text": [
      "c:\\users\\vishal\\appdata\\local\\programs\\python\\python37-32\\lib\\site-packages\\ipykernel_launcher.py:22: DataConversionWarning: A column-vector y was passed when a 1d array was expected. Please change the shape of y to (n_samples, ), for example using ravel().\n"
     ]
    }
   ],
   "source": [
    "# K-Nearest Neighbors (K-NN)\n",
    "\n",
    "# Importing the libraries\n",
    "import numpy as np\n",
    "import matplotlib.pyplot as plt\n",
    "import pandas as pd\n",
    "\n",
    "# Importing the dataset\n",
    "dataset = pd.read_csv('/Users/Vishal/Desktop/Datasets/knn/Diabetes_XTrain.csv')\n",
    "X = dataset.iloc[:,: ].values\n",
    "dataset1 = pd.read_csv('/Users/Vishal/Desktop/Datasets/knn/Diabetes_YTrain.csv')\n",
    "Y = dataset1.iloc[:, :].values\n",
    "dataset2 = pd.read_csv('/Users/Vishal/Desktop/Datasets/knn/Diabetes_XTest.csv')\n",
    "Z = dataset2.iloc[:, :].values\n",
    "\n",
    "\n",
    "\n",
    "\n",
    "# Fitting K-NN to the Training set\n",
    "from sklearn.neighbors import KNeighborsClassifier\n",
    "classifier = KNeighborsClassifier(n_neighbors = 5, metric = 'minkowski', p = 2)\n",
    "classifier.fit(X, Y)\n",
    "\n",
    "# Predicting the Test set results\n",
    "y_pred = classifier.predict(Z)\n",
    "y_pred = pd.DataFrame(y_pred)\n",
    "y_pred.to_csv('output4.csv')\n",
    "print(y_pred)\n",
    "\n",
    "\n"
   ]
  },
  {
   "cell_type": "code",
   "execution_count": null,
   "metadata": {},
   "outputs": [],
   "source": []
  }
 ],
 "metadata": {
  "kernelspec": {
   "display_name": "Python 3",
   "language": "python",
   "name": "python3"
  },
  "language_info": {
   "codemirror_mode": {
    "name": "ipython",
    "version": 3
   },
   "file_extension": ".py",
   "mimetype": "text/x-python",
   "name": "python",
   "nbconvert_exporter": "python",
   "pygments_lexer": "ipython3",
   "version": "3.7.4"
  }
 },
 "nbformat": 4,
 "nbformat_minor": 2
}
